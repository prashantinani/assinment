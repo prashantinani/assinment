{
 "cells": [
  {
   "cell_type": "markdown",
   "id": "298e7d92",
   "metadata": {},
   "source": [
    "1.What exactly is [ ]?\n",
    "\n",
    "Answer: \n",
    "The empty list represented by [ ] is a list that contains no items. This is similar to '' which represents an empty string\n"
   ]
  },
  {
   "cell_type": "markdown",
   "id": "5e85f1ce",
   "metadata": {},
   "source": [
    "2.In a list of values stored in a variable called spam, how would you assign the value 'hello' as the third value? (Assume [2, 4, 6, 8, 10] are in spam.)\n",
    "\n",
    "Answer\n",
    ": spam[2]='hello' (Note: Lists follows zero based indexing)\n"
   ]
  },
  {
   "cell_type": "code",
   "execution_count": 4,
   "id": "2fcd42ec",
   "metadata": {},
   "outputs": [
    {
     "name": "stdout",
     "output_type": "stream",
     "text": [
      "[10, 20, 40, 80]\n",
      "[10, 'hello', 40, 80]\n"
     ]
    }
   ],
   "source": [
    "#Exampl\n",
    "spam=[10,20,40,80]\n",
    "print(spam)\n",
    "spam[1]=\"hello\" #List uses zero based indexing\n",
    "print(spam)"
   ]
  },
  {
   "cell_type": "markdown",
   "id": "f9c91658",
   "metadata": {},
   "source": [
    "Let's pretend the spam includes the list ['a','b','c',d'] for the next three queries."
   ]
  },
  {
   "cell_type": "markdown",
   "id": "cb70ce5a",
   "metadata": {},
   "source": [
    "3. What is the value of spam[int(int('3'*2)//11)] ?"
   ]
  },
  {
   "cell_type": "markdown",
   "id": "ce361487",
   "metadata": {},
   "source": [
    "Answer\n",
    ":\n",
    "'d'\n",
    "(Note that '3' * 2 is the string '33', which is passed to int() before being divided by 11. This eventually evaluates to 3, spam[3] is equal to d."
   ]
  },
  {
   "cell_type": "code",
   "execution_count": 5,
   "id": "3bc7bdb6",
   "metadata": {},
   "outputs": [
    {
     "name": "stdout",
     "output_type": "stream",
     "text": [
      "d\n"
     ]
    }
   ],
   "source": [
    "spam=['a','b','c','d']\n",
    "print(spam[int(int('3'*2)//11)])"
   ]
  },
  {
   "cell_type": "markdown",
   "id": "d31d2346",
   "metadata": {},
   "source": [
    "\n",
    "4. What is the value of spam[-1]?\n",
    "\n",
    "Answer\n",
    ": 'd' (Lists support Negative indexing, Hence spam[-1] returs 'd')\n"
   ]
  },
  {
   "cell_type": "code",
   "execution_count": 8,
   "id": "442dee79",
   "metadata": {},
   "outputs": [
    {
     "name": "stdout",
     "output_type": "stream",
     "text": [
      "spam[-1]>- d\n"
     ]
    }
   ],
   "source": [
    "spam=['a','b','c','d']\n",
    "print( \"spam[-1]>-\", spam[-1])"
   ]
  },
  {
   "cell_type": "markdown",
   "id": "3e34ffd8",
   "metadata": {},
   "source": [
    "5. What is the value of spam[:2]?\n",
    "\n",
    "Answer\n",
    ": spam[:2] returns all elements in the list spam from 0 to 2 excluding 2\n"
   ]
  },
  {
   "cell_type": "code",
   "execution_count": 10,
   "id": "9c43774d",
   "metadata": {},
   "outputs": [
    {
     "name": "stdout",
     "output_type": "stream",
     "text": [
      "['a', 'b', 'c', 'd']\n",
      "['a', 'b']\n"
     ]
    }
   ],
   "source": [
    "spam=['a','b','c','d']\n",
    "print(spam)\n",
    "print(spam[:2] )"
   ]
  },
  {
   "cell_type": "markdown",
   "id": "23ae71c4",
   "metadata": {},
   "source": [
    "Let's pretend bacon has the list [3.14,'cat',11,'cat',True] for the next three question"
   ]
  },
  {
   "cell_type": "markdown",
   "id": "fdfacc6f",
   "metadata": {},
   "source": [
    "6. What is the value of bacon.index('cat')?\n",
    "\n",
    "Ans: The value of bacon.index('cat') is 1 (Note: index method returns the index of first occuerence of 'cat')\n"
   ]
  },
  {
   "cell_type": "code",
   "execution_count": 16,
   "id": "7c613263",
   "metadata": {},
   "outputs": [
    {
     "name": "stdout",
     "output_type": "stream",
     "text": [
      "1\n"
     ]
    }
   ],
   "source": [
    "baconx= [3.14,'cat',11,'cat',True]\n",
    "print(bacon.index(\"cat\"))"
   ]
  },
  {
   "cell_type": "markdown",
   "id": "163fa9c6",
   "metadata": {},
   "source": [
    "7. How does bacon.append(99) change the look of the list value in bacon?\n",
    "\n",
    "Answer: The append method adds new elements to the end of the list\n"
   ]
  },
  {
   "cell_type": "code",
   "execution_count": 18,
   "id": "4e912cde",
   "metadata": {},
   "outputs": [
    {
     "name": "stdout",
     "output_type": "stream",
     "text": [
      "[3.14, 'cat', 11, 'cat', True, 99]\n"
     ]
    }
   ],
   "source": [
    "#example\n",
    "baconx= [3.14,'cat',11,'cat',True]\n",
    "baconx.append(99)\n",
    "print(baconx)"
   ]
  },
  {
   "cell_type": "markdown",
   "id": "6ce5384f",
   "metadata": {},
   "source": [
    "8. How does bacon.remove('cat') change the look of the list in bacon?\n",
    "\n",
    "Answer\n",
    ": The remove method removes the first occurence of the element in the list\n"
   ]
  },
  {
   "cell_type": "code",
   "execution_count": 20,
   "id": "26663fdc",
   "metadata": {},
   "outputs": [
    {
     "name": "stdout",
     "output_type": "stream",
     "text": [
      "[3.14, 11, 'cat', True]\n"
     ]
    }
   ],
   "source": [
    "#example\n",
    "baconx= [3.14,'cat',11,'cat',True]\n",
    "baconx.remove('cat')\n",
    "print(baconx)"
   ]
  },
  {
   "cell_type": "markdown",
   "id": "dc42bcc0",
   "metadata": {},
   "source": [
    "9.what are the list concatenation and list replication operations?\n",
    "\n",
    "Answer\n",
    ": The operator for list concatenation is +, while the operator for replication is *. (This is the same as for strings.)\n"
   ]
  },
  {
   "cell_type": "code",
   "execution_count": 23,
   "id": "6a6062bb",
   "metadata": {},
   "outputs": [
    {
     "name": "stdout",
     "output_type": "stream",
     "text": [
      "['prashant', 'inani', 'civil engineer', 'data', 'scince', 'job']\n",
      "['prashant', 'inani', 'civil engineer', 'prashant', 'inani', 'civil engineer']\n"
     ]
    }
   ],
   "source": [
    "list1 =[\"prashant\", \"inani\",\"civil engineer\"]\n",
    "list2 =[\"data\",\"scince\",\"job\"]\n",
    "print(list1 + list2)# list concatenation\n",
    "print(list1 * 2)# list replication"
   ]
  },
  {
   "cell_type": "markdown",
   "id": "54453c02",
   "metadata": {},
   "source": [
    "10.what is the difference between the list method append() and insert()?\n",
    "\n",
    "Answer\n",
    ": While append() will add values only to the end of a list, insert() can add them anywhere in the list"
   ]
  },
  {
   "cell_type": "code",
   "execution_count": 24,
   "id": "1d1e28dd",
   "metadata": {},
   "outputs": [
    {
     "name": "stdout",
     "output_type": "stream",
     "text": [
      "[1, 2, 3, 4, 5, 9]\n",
      "[1, 2, 'data scince', 3, 4, 5, 9]\n"
     ]
    }
   ],
   "source": [
    "#Examples\n",
    "list = [1,2,3,4,5]\n",
    "list.append(9)\n",
    "print(list)\n",
    "list.insert(2,'data scince')\n",
    "print(list)"
   ]
  },
  {
   "cell_type": "markdown",
   "id": "1ed38d8c",
   "metadata": {},
   "source": [
    "11. What are the two methods for removing items from a list?\n",
    "\n",
    "Answer\n",
    ": The del statement and the remove() method are two ways to remove values from a list\n"
   ]
  },
  {
   "cell_type": "markdown",
   "id": "4d240d78",
   "metadata": {},
   "source": [
    "12. Describe how list values and string values are identical.\n",
    "\n",
    "Answer\n",
    ": Both lists and strings can be passed to len() function, have indexes and slices, be used in for loops, be concatenated or replicated, and be used with the in and not in operators."
   ]
  },
  {
   "cell_type": "markdown",
   "id": "42eee0d1",
   "metadata": {},
   "source": [
    "13. What's the difference between tuples and lists?\n",
    "\n",
    "Answer\n",
    ": Lists are Mutable, Indexable and Slicable. they can have values added, removed, or changed. Tuples are Immutable but Indexable and Slicable. the tuple values cannot be changed at all. Also, tuples are represented using parentheses, (), while lists use the square brackets, [].\n"
   ]
  },
  {
   "cell_type": "markdown",
   "id": "fab1848e",
   "metadata": {},
   "source": [
    "14. How do you type a tuple value that only contains the integer 42?\n",
    "\n",
    "Answer:(42,) (The trailing comma is mandatory. otherwise its considered as a int by python Interpreter)\n"
   ]
  },
  {
   "cell_type": "code",
   "execution_count": 26,
   "id": "104bea1e",
   "metadata": {},
   "outputs": [
    {
     "name": "stdout",
     "output_type": "stream",
     "text": [
      "<class 'int'>\n",
      "<class 'tuple'>\n"
     ]
    }
   ],
   "source": [
    "tup1=(42)\n",
    "tup2=(42,)\n",
    "print(type(tup1))\n",
    "print(type(tup2))"
   ]
  },
  {
   "cell_type": "markdown",
   "id": "4756e01e",
   "metadata": {},
   "source": [
    "15. How do you get a list value's tuple form? How do you get a tuple value's list form?\n",
    "\n",
    "Answer: \n",
    "The tuple() and list() functions, respectively are used to convert a list to tuple and vice versa\n"
   ]
  },
  {
   "cell_type": "markdown",
   "id": "7ddfa5c5",
   "metadata": {},
   "source": [
    "16. Variables that \"contain\" list values are not necessarily lists themselves. Instead, what do they contain?\n",
    "\n",
    "Answer\n",
    ": They contain references to list values."
   ]
  },
  {
   "cell_type": "markdown",
   "id": "394ec29b",
   "metadata": {},
   "source": [
    " How do you distinguish between copy.copy() and copy.deepcopy()?\n",
    "\n",
    "Answer\n",
    ": The copy.copy() function will do a shallow copy of a list, while the copy.deepcopy() function will do a deep copy of a list. That is, only copy.deepcopy() will duplicate any lists inside the list."
   ]
  }
 ],
 "metadata": {
  "kernelspec": {
   "display_name": "Python 3 (ipykernel)",
   "language": "python",
   "name": "python3"
  },
  "language_info": {
   "codemirror_mode": {
    "name": "ipython",
    "version": 3
   },
   "file_extension": ".py",
   "mimetype": "text/x-python",
   "name": "python",
   "nbconvert_exporter": "python",
   "pygments_lexer": "ipython3",
   "version": "3.9.12"
  }
 },
 "nbformat": 4,
 "nbformat_minor": 5
}
