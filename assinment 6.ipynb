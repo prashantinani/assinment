{
 "cells": [
  {
   "cell_type": "markdown",
   "id": "fb58c5f0",
   "metadata": {},
   "source": [
    "1.What are Escape characters ? and how do you use them ?\n",
    "\n",
    "Answer: \n",
    "Escape characters represent characters in string values that would otherwise be difficult or impossible to type into code. we can use the backslash character to escape a single character or symbol\n",
    "\n",
    "example: \\t, \\n\n"
   ]
  },
  {
   "cell_type": "markdown",
   "id": "b372e476",
   "metadata": {},
   "source": [
    "2.What do the escape characters n and t stand for ?\n",
    "\n",
    "Answer\n",
    ": \\n is a newline, \\t is a tab\n"
   ]
  },
  {
   "cell_type": "markdown",
   "id": "dee37ec7",
   "metadata": {},
   "source": [
    "3.What is the way to include backslash character in a string?\n",
    "\n",
    "Answer\n",
    ": The \\\\ escape character will represent the backslash character in a string\n"
   ]
  },
  {
   "cell_type": "markdown",
   "id": "103e5ad7",
   "metadata": {},
   "source": [
    "4.The string \"Howl's Moving Castle\" is a correct value. Why isn't the single quote character in the word Howl's not escaped a problem ?\n",
    "\n",
    "Answer\n",
    ": The string \"Howl's Moving Castle\" escaped the problem because it is wrapped inside double quotes. if its wrapped inside single quotes then we have to use escape character \\' to show single quote in the final output\n",
    "'Howl\\'s Moving Castle' -> 'Howl's Moving Castle'\n"
   ]
  },
  {
   "cell_type": "markdown",
   "id": "306e323c",
   "metadata": {},
   "source": [
    "5.How do you write a string of newlines if you don't want to use the n character?\n",
    "\n",
    "Answer: Multiline string allow you to use newlines in string without the \\n escape character\n"
   ]
  },
  {
   "cell_type": "code",
   "execution_count": 1,
   "id": "f25c57e8",
   "metadata": {},
   "outputs": [
    {
     "name": "stdout",
     "output_type": "stream",
     "text": [
      "iNeuron full stack\n",
      "Data Science Course\n"
     ]
    }
   ],
   "source": [
    "# Example:\n",
    "p = '''iNeuron full stack\n",
    "Data Science Course'''\n",
    "print(p)"
   ]
  },
  {
   "cell_type": "markdown",
   "id": "fb97937c",
   "metadata": {},
   "source": [
    "\n",
    "6.What are the values of the given expressions ?\n",
    "\n",
    "\n",
    "'Hello, world!'[1]\n",
    "\n",
    "'Hello, world!'[0:5]\n",
    "\n",
    "'Hello, world!'[:5]\n",
    "\n",
    "'Hello, world!'[3:]\n"
   ]
  },
  {
   "cell_type": "markdown",
   "id": "adcff2a5",
   "metadata": {},
   "source": [
    "Answer: The values for the given expressions are:\n",
    "'Hello, world!'[1] -> 'e'\n",
    "\n",
    "'Hello, world!'[0:5] -> 'Hello'\n",
    "\n",
    "'Hello, world!'[:5] -> 'Hello'\n",
    "\n",
    "'Hello, world!'[3:] -> 'lo, world!'"
   ]
  },
  {
   "cell_type": "markdown",
   "id": "fc5f7671",
   "metadata": {},
   "source": [
    "7.What are the values of the following expressions ?\n",
    "\n",
    "'Hello'.upper()\n",
    "\n",
    "'Hello'.upper().isupper()\n",
    "\n",
    "'Hello'.upper().lower()"
   ]
  },
  {
   "cell_type": "markdown",
   "id": "e74990e2",
   "metadata": {},
   "source": [
    "Answer\n",
    ": The values for the given expressions are:\n",
    "\n",
    "'Hello'.upper() -> 'HELLO'\n",
    "\n",
    "'Hello'.upper().isupper() -> True\n",
    "\n",
    "'Hello'.upper().lower() -> 'hello'"
   ]
  },
  {
   "cell_type": "markdown",
   "id": "9dcad70a",
   "metadata": {},
   "source": [
    "8.What are the values of the following expressions ?\n",
    "\n",
    "'Remember, remember, the fifith of July.'.split()\n",
    "-'.join('There can only one'.split())"
   ]
  },
  {
   "cell_type": "markdown",
   "id": "ee168c3d",
   "metadata": {},
   "source": [
    "Answer\n",
    ": The values for the given expressions are:\n",
    "\n",
    "'Remember, remember, the fifith of July.'.split() -> ['Remember,', 'remember,', 'the', 'fifith', 'of', 'July.']\n",
    "\n",
    "'-'.join('There can only one'.split()) -> 'There-can-only-one'"
   ]
  },
  {
   "cell_type": "markdown",
   "id": "43b971fb",
   "metadata": {},
   "source": [
    "9.What are the methods for right-justifying, left-justifying and centering a string ?\n",
    "\n",
    "Answer: The rjust(),ljust(),center() string methods, respectively\n"
   ]
  },
  {
   "cell_type": "markdown",
   "id": "c8b64206",
   "metadata": {},
   "source": [
    "10.What is the best way to remove whitespace characters from the start or end ?\n",
    "\n",
    "Answer: The lstrip() and rstrip() methods remove whitesapce characters from the left and right ends of a string respectively\n"
   ]
  }
 ],
 "metadata": {
  "kernelspec": {
   "display_name": "Python 3 (ipykernel)",
   "language": "python",
   "name": "python3"
  },
  "language_info": {
   "codemirror_mode": {
    "name": "ipython",
    "version": 3
   },
   "file_extension": ".py",
   "mimetype": "text/x-python",
   "name": "python",
   "nbconvert_exporter": "python",
   "pygments_lexer": "ipython3",
   "version": "3.9.12"
  }
 },
 "nbformat": 4,
 "nbformat_minor": 5
}
