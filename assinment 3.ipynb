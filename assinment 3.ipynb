{
 "cells": [
  {
   "cell_type": "markdown",
   "id": "724309ef",
   "metadata": {},
   "source": [
    "\n",
    "1. Why are functions advantageous to have in your programs?\n",
    "\n",
    "Answer\n",
    ": Functions reduce the need for duplicate code. This makes programs shorter, easier to read, and easier to update. The main advantage of functions is code Reusability.\n"
   ]
  },
  {
   "cell_type": "markdown",
   "id": "c69d0f35",
   "metadata": {},
   "source": [
    "\n",
    "2. When does the code in a function run: when it's specified or when it's called?\n",
    "\n",
    "Ans\n",
    ": The code in a function executes when the function is called, not when the function is specified.\n"
   ]
  },
  {
   "cell_type": "markdown",
   "id": "225dc5b3",
   "metadata": {},
   "source": [
    "3. What statement creates a function?\n",
    "\n",
    "Ans\n",
    "The def statement defines a function\n",
    "\n",
    "Syntax of Function:\n",
    "\n",
    "def function_name(parameters):\n",
    "\n",
    "    \"\"\"doc string\"\"\"          \n",
    "    \n",
    "    -----function body-----\n",
    "    \n",
    "    -----function body-----\n",
    "    \n",
    "    return value\n"
   ]
  },
  {
   "cell_type": "markdown",
   "id": "5c0fee90",
   "metadata": {},
   "source": [
    "4. What is the difference between a function and a function call?\n",
    "\n",
    "Answer:\n",
    "A function is procedure to achieve a particular result. while function call is using this function to achive that task. Using a function to do a particular task any point in program is called as function call.\n"
   ]
  },
  {
   "cell_type": "markdown",
   "id": "7a0e30fa",
   "metadata": {},
   "source": [
    "5. How many global scopes are there in a Python program? How many local scopes?\n",
    "\n",
    "Answer: \n",
    "There is one global scope, and a local scope is created whenever a function is called.\n"
   ]
  },
  {
   "cell_type": "markdown",
   "id": "ab37b05c",
   "metadata": {},
   "source": [
    "6. What happens to variables in a local scope when the function call returns?\n",
    "\n",
    "Answer: When a function returns, the local scope is destroyed, and all the variables in it are forgotten.\n"
   ]
  },
  {
   "cell_type": "markdown",
   "id": "a22469fb",
   "metadata": {},
   "source": [
    "7. What is the concept of a return value? Is it possible to have a return value in an expression?\n",
    "\n",
    "Ans: A return value is the value that a function call evaluates to. Like any value, a return value can be used as part of an expression.\n"
   ]
  },
  {
   "cell_type": "markdown",
   "id": "7946d4ef",
   "metadata": {},
   "source": [
    "8. If a function does not have a return statement, what is the return value of a call to that function?\n",
    "\n",
    "Answer: \n",
    "If there is no return statement for a function, its return value is None.\n"
   ]
  },
  {
   "cell_type": "markdown",
   "id": "ff407780",
   "metadata": {},
   "source": [
    "9. How do you make a function variable refer to the global variable\n",
    "\n",
    "Answer:\n",
    "A global statement will force a variable in a function to refer to the global variable. If you want to refer to a global variable in a function, you can use the global keyword to declare which variables are global.\n"
   ]
  },
  {
   "cell_type": "markdown",
   "id": "b414b381",
   "metadata": {},
   "source": [
    "10. What is the data type of None?\n",
    "\n",
    "Answer: \n",
    "The data type of None is NoneType.\n"
   ]
  },
  {
   "cell_type": "markdown",
   "id": "c1923e8b",
   "metadata": {},
   "source": [
    "11. What does the sentence import areallyourpetsnamederic do?\n",
    "\n",
    "Answer: \n",
    "That import statement imports a module named areallyourpetsnamederic.\n"
   ]
  },
  {
   "cell_type": "markdown",
   "id": "6ef3036b",
   "metadata": {},
   "source": [
    "12. If you had a bacon() feature in a spam module, what would you call it after importing spam?\n",
    "\n",
    "Answer: \n",
    "This function can be called with spam.bacon().\n"
   ]
  },
  {
   "cell_type": "markdown",
   "id": "5cb80009",
   "metadata": {},
   "source": [
    "\n",
    "13. What can you do to save a programme from crashing if it encounters an error?\n",
    "\n",
    "Answer: Place the line of code that might cause an error in a try clause and use except block to handle the error.\n",
    "\n",
    "14. What is the purpose of the try clause? What is the purpose of the except clause?\n",
    "\n",
    "Answer\n",
    ":The code that could potentially cause an error goes in the try clause. The code that executes if an error happens goes in the except clause.\n"
   ]
  },
  {
   "cell_type": "code",
   "execution_count": null,
   "id": "b1b88bad",
   "metadata": {},
   "outputs": [],
   "source": []
  }
 ],
 "metadata": {
  "kernelspec": {
   "display_name": "Python 3 (ipykernel)",
   "language": "python",
   "name": "python3"
  },
  "language_info": {
   "codemirror_mode": {
    "name": "ipython",
    "version": 3
   },
   "file_extension": ".py",
   "mimetype": "text/x-python",
   "name": "python",
   "nbconvert_exporter": "python",
   "pygments_lexer": "ipython3",
   "version": "3.9.12"
  }
 },
 "nbformat": 4,
 "nbformat_minor": 5
}
